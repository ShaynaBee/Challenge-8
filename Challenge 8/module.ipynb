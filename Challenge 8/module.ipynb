{
 "cells": [
  {
   "cell_type": "code",
   "execution_count": 1,
   "metadata": {},
   "outputs": [],
   "source": [
    "import json\n",
    "import pandas as pd\n",
    "import numpy as np"
   ]
  },
  {
   "cell_type": "code",
   "execution_count": 3,
   "metadata": {},
   "outputs": [],
   "source": [
    "file_path = \"wikipedia-movies.json\""
   ]
  },
  {
   "cell_type": "code",
   "execution_count": 8,
   "metadata": {},
   "outputs": [
    {
     "name": "stdout",
     "output_type": "stream",
     "text": [
      "{\n",
      "    \"Box office\": \"$12,626,043\",\n",
      "    \"Budget\": \"$7 million\",\n",
      "    \"Cinematography\": \"Robert Elswit\",\n",
      "    \"Country\": \"United States\",\n",
      "    \"Directed by\": \"Curtis Hanson\",\n",
      "    \"Distributed by\": \"Triumph Releasing Corporation\",\n",
      "    \"Edited by\": \"Bonnie Koehler\",\n",
      "    \"Language\": \"English\",\n",
      "    \"Music by\": \"Trevor Jones\",\n",
      "    \"Produced by\": \"Steve Tisch\",\n",
      "    \"Productioncompany \": \"Epic Productions\",\n",
      "    \"Release date\": \"March 9, 1990\",\n",
      "    \"Running time\": \"99 minutes\",\n",
      "    \"Starring\": [\n",
      "        \"Rob Lowe\",\n",
      "        \"James Spader\"\n",
      "    ],\n",
      "    \"Written by\": \"David Koepp\",\n",
      "    \"imdb_link\": \"https://www.imdb.com/title/tt0099091/\",\n",
      "    \"title\": \"Bad Influence\",\n",
      "    \"url\": \"https://en.wikipedia.org/wiki/Bad_Influence_(film)\",\n",
      "    \"year\": 1990\n",
      "}\n"
     ]
    }
   ],
   "source": [
    "with open(file_path, mode='r') as file:\n",
    "    wiki_movies_raw = json.load(file)\n",
    "#print(json.dumps(wiki_movies_raw [15], sort_keys=True, indent=4))\n",
    "\n"
   ]
  }
 ],
 "metadata": {
  "interpreter": {
   "hash": "0bcc94e78baa13f8d856fe713d053b2638697cafa20df097d24bc2291143e6ce"
  },
  "kernelspec": {
   "display_name": "Python 3.10.0 64-bit",
   "language": "python",
   "name": "python3"
  },
  "language_info": {
   "codemirror_mode": {
    "name": "ipython",
    "version": 3
   },
   "file_extension": ".py",
   "mimetype": "text/x-python",
   "name": "python",
   "nbconvert_exporter": "python",
   "pygments_lexer": "ipython3",
   "version": "3.10.0"
  },
  "orig_nbformat": 4
 },
 "nbformat": 4,
 "nbformat_minor": 2
}
